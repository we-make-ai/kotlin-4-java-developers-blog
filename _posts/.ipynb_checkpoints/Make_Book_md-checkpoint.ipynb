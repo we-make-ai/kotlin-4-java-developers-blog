{
 "cells": [
  {
   "cell_type": "markdown",
   "metadata": {},
   "source": [
    "# Create Markdown Book\n",
    "Creates one single markdown-file from all the raw md files"
   ]
  },
  {
   "cell_type": "code",
   "execution_count": 1,
   "metadata": {},
   "outputs": [],
   "source": [
    "from pathlib import Path\n",
    "RAW_MD_PATH = Path(\".\")\n",
    "FINAL_MD_PATH = Path(\".\")\n",
    "FINAL_MD_PATH.mkdir(parents=True, exist_ok=True)\n",
    "FINAL_MD_NAME = Path()/FINAL_MD_PATH/\"kotlin4javadev.md\""
   ]
  },
  {
   "cell_type": "markdown",
   "metadata": {},
   "source": [
    " ## Concatenate all single MD-Files\n",
    "1. Create a new out-file with current timestamp and concatenate all raw markdown files.\n",
    "1. Replace all the image links to the jpgs with links to the webp"
   ]
  },
  {
   "cell_type": "code",
   "execution_count": 89,
   "metadata": {},
   "outputs": [],
   "source": [
    "#from datetime import datetime\n",
    "#now = datetime.now()\n",
    "\n",
    "#out_file_name = FINAL_MD_NAME.stem+\"_\"+str(now).replace(\" \", \"_\")+\".md\"\n",
    "\n",
    "raw_md_files = list(RAW_MD_PATH.glob('*.md'))\n",
    "\n",
    "#full_markdown_text = \"\\n\".join([file.read_text() for file in sorted(raw_md_files)])\n",
    "# full_markdown_text = full_markdown_text.replace(\".png\", \".webp\")\n",
    "\n",
    "import fileinput\n",
    "\n",
    "with fileinput.FileInput(filename, inplace=True, backup='.bak') as file:\n",
    "    for line in file:\n",
    "        print(line.replace(text_to_search, replacement_text), end='')\n"
   ]
  },
  {
   "cell_type": "code",
   "execution_count": 83,
   "metadata": {},
   "outputs": [
    {
     "name": "stdout",
     "output_type": "stream",
     "text": [
      "cannot open input file '*.png'\r\n",
      "Error! Could not process file *.png\r\n",
      "Error! Cannot read input picture file '*.png'\r\n",
      "rm: *.png: No such file or directory\r\n",
      "cannot open input file '*.jpg'\r\n",
      "Error! Could not process file *.jpg\r\n",
      "Error! Cannot read input picture file '*.jpg'\r\n",
      "rm: *.jpg: No such file or directory\r\n"
     ]
    }
   ],
   "source": [
    "#run from terminal\n",
    "!sh ./out_md/assets/convert_png_to_webp.sh"
   ]
  },
  {
   "cell_type": "code",
   "execution_count": 84,
   "metadata": {},
   "outputs": [
    {
     "name": "stdout",
     "output_type": "stream",
     "text": [
      "pandoc: filename.md: openBinaryFile: does not exist (No such file or directory)\r\n"
     ]
    }
   ],
   "source": [
    "#run from terminal\n",
    "!pandoc -o output.docx -f markdown -t docx filename.md"
   ]
  },
  {
   "cell_type": "code",
   "execution_count": 85,
   "metadata": {},
   "outputs": [
    {
     "data": {
      "text/plain": [
       "[PosixPath('raw_md/290_Kotlin_Einführung.md'),\n",
       " PosixPath('raw_md/300_Kotlin_4JavaDevs_History.md'),\n",
       " PosixPath('raw_md/310_Von_Java_zu_Kotlin.md'),\n",
       " PosixPath('raw_md/320_Hello_World_kotlin.md'),\n",
       " PosixPath('raw_md/330_Variablen_in_Kotlin.md'),\n",
       " PosixPath('raw_md/340_Funktionen_in_Kotlin.md'),\n",
       " PosixPath('raw_md/350_Kontrollstrukturen_in_Kotlin.md'),\n",
       " PosixPath('raw_md/360_Schleifen_in_Kotlin.md'),\n",
       " PosixPath('raw_md/370_Ranges_in_Kotlin.md'),\n",
       " PosixPath('raw_md/371_In_Operator_Uebungsbeispiel.md'),\n",
       " PosixPath('raw_md/380_Exceptions_in_Kotlin.md'),\n",
       " PosixPath('raw_md/390_Extension_Functions.md'),\n",
       " PosixPath('raw_md/400_Nullable_Types.md'),\n",
       " PosixPath('raw_md/410_Lambdas_in_Kotlin.md'),\n",
       " PosixPath('raw_md/420_Properties_in_Kotlin.md'),\n",
       " PosixPath('raw_md/430_Objektorientierung_in_Kotlin.md'),\n",
       " PosixPath('raw_md/440_Object_Expression_Object_Declaration.md'),\n",
       " PosixPath('raw_md/450_Konstante_Generics_in_Kotlin.md'),\n",
       " PosixPath('raw_md/460_Ueberladung_von_Operatoren_in_Kotlin.md'),\n",
       " PosixPath('raw_md/470_Typenhierarchie_in_Kotlin.md'),\n",
       " PosixPath('raw_md/480_Schlusswort.md')]"
      ]
     },
     "execution_count": 85,
     "metadata": {},
     "output_type": "execute_result"
    }
   ],
   "source": [
    "sorted(raw_md_files)"
   ]
  },
  {
   "cell_type": "code",
   "execution_count": null,
   "metadata": {},
   "outputs": [],
   "source": []
  }
 ],
 "metadata": {
  "kernelspec": {
   "display_name": "Python 3",
   "language": "python",
   "name": "python3"
  },
  "language_info": {
   "codemirror_mode": {
    "name": "ipython",
    "version": 3
   },
   "file_extension": ".py",
   "mimetype": "text/x-python",
   "name": "python",
   "nbconvert_exporter": "python",
   "pygments_lexer": "ipython3",
   "version": "3.5.4"
  },
  "toc": {
   "base_numbering": 1,
   "nav_menu": {},
   "number_sections": true,
   "sideBar": true,
   "skip_h1_title": false,
   "title_cell": "Table of Contents",
   "title_sidebar": "Contents",
   "toc_cell": false,
   "toc_position": {},
   "toc_section_display": true,
   "toc_window_display": false
  },
  "varInspector": {
   "cols": {
    "lenName": 16,
    "lenType": 16,
    "lenVar": 40
   },
   "kernels_config": {
    "python": {
     "delete_cmd_postfix": "",
     "delete_cmd_prefix": "del ",
     "library": "var_list.py",
     "varRefreshCmd": "print(var_dic_list())"
    },
    "r": {
     "delete_cmd_postfix": ") ",
     "delete_cmd_prefix": "rm(",
     "library": "var_list.r",
     "varRefreshCmd": "cat(var_dic_list()) "
    }
   },
   "position": {
    "height": "308.85px",
    "left": "1286px",
    "right": "20px",
    "top": "120px",
    "width": "352px"
   },
   "types_to_exclude": [
    "module",
    "function",
    "builtin_function_or_method",
    "instance",
    "_Feature"
   ],
   "window_display": true
  }
 },
 "nbformat": 4,
 "nbformat_minor": 2
}
